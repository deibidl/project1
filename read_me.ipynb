{
 "cells": [
  {
   "cell_type": "markdown",
   "metadata": {},
   "source": [
    "# Some useful info\n",
    "\n",
    "\n",
    "[Link to the Working Doc](https://docs.google.com/document/d/1WvzCE2teDilR1PZK6b4CDRBDpet24em1ZyAsZ3ob9XE/edit#)\n",
    "\n",
    "[Google Drive Folder](https://drive.google.com/drive/folders/1Vhmld7iVaev5Vh8tBOJ-rqR8c7G5Ade3) (Data)"
   ]
  },
  {
   "cell_type": "code",
   "execution_count": null,
   "metadata": {},
   "outputs": [],
   "source": []
  }
 ],
 "metadata": {
  "kernelspec": {
   "display_name": "Python 3",
   "language": "python",
   "name": "python3"
  },
  "language_info": {
   "codemirror_mode": {
    "name": "ipython",
    "version": 3
   },
   "file_extension": ".py",
   "mimetype": "text/x-python",
   "name": "python",
   "nbconvert_exporter": "python",
   "pygments_lexer": "ipython3",
   "version": "3.7.3"
  }
 },
 "nbformat": 4,
 "nbformat_minor": 2
}
